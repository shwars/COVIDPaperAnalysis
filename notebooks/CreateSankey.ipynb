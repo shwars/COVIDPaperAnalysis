{
 "cells": [
  {
   "cell_type": "markdown",
   "source": [
    "## Create sankey diagrams"
   ],
   "metadata": {}
  },
  {
   "cell_type": "code",
   "execution_count": 36,
   "source": [
    "data_dir = 'd:/data/covid/tajson'\r\n",
    "left_category = 'Diagnosis'\r\n",
    "right_category = 'MedicationName'\r\n",
    "left_ontology = {\r\n",
    " 'C5203670': ('COVID-19',0),\r\n",
    " 'C3714514': ('infection',1),\r\n",
    " 'C0011065': ('death',2),\r\n",
    " 'C0042769': ('viral infections',1),\r\n",
    " 'C1175175': ('SARS',3),\r\n",
    " 'C0009450': ('infectious disease',1),\r\n",
    " 'C0006826': ('CA',4), #cardiac arrest (остановка сердца :0)\r\n",
    " 'C0221423': ('illnesses',5),\r\n",
    " 'C0035222': ('ARDS',6), #Acute respiratory distress syndrome (типа воспаление легких)\r\n",
    " 'C0011849': ('diabetes',7),\r\n",
    " 'C0032285': ('pneumonia',8),\r\n",
    " 'C0021400': ('influenza',9)\r\n",
    "}\r\n",
    "right_ontology = {\r\n",
    " 'C0020336': ('hydroxychloroquine', 0),\r\n",
    " 'C0008269': ('chloroquine', 1),\r\n",
    " 'C1609165': ('Tocilizumab', 2),\r\n",
    " 'C4726677': ('remdesivir', 3),\r\n",
    " 'C0052796': ('azithromycin', 4),\r\n",
    " 'C0674432': ('lopinavir', 5),\r\n",
    " 'C0292818': ('ritonavir', 5),\r\n",
    " 'C0034386': ('quarantine', 6),\r\n",
    " 'C0011777': ('dexamethasone', 7),\r\n",
    " 'C0035525': ('ribavirin', 8),\r\n",
    " 'C0021641': ('insulin', 9),\r\n",
    " 'C0042866': ('vitamin D', 10),\r\n",
    "}"
   ],
   "outputs": [],
   "metadata": {}
  },
  {
   "cell_type": "code",
   "execution_count": 49,
   "source": [
    "def getmap(ontology):\r\n",
    "    omap = {}\r\n",
    "    for c,(n,i) in ontology.items():\r\n",
    "        if i not in omap.keys():\r\n",
    "            omap[i] = n\r\n",
    "    return omap\r\n",
    "\r\n",
    "left_map = getmap(left_ontology)\r\n",
    "right_map = getmap(right_ontology)"
   ],
   "outputs": [],
   "metadata": {}
  },
  {
   "cell_type": "code",
   "execution_count": 37,
   "source": [
    "import json\r\n",
    "import os\r\n",
    "import glob\r\n",
    "import numpy as np\r\n",
    "import tqdm"
   ],
   "outputs": [],
   "metadata": {}
  },
  {
   "cell_type": "code",
   "execution_count": 57,
   "source": [
    "def load(fn):\r\n",
    "    with open(fn) as f:\r\n",
    "        return json.load(f)\r\n",
    "\r\n",
    "def get_onto(lst,onto='UMLS'):\r\n",
    "    try:\r\n",
    "        return [ x['id'] for x in lst['links'] if x['dataSource']==onto][0]\r\n",
    "    except:\r\n",
    "        return \"\"\r\n",
    "\r\n",
    "snd = lambda x: x[1]\r\n",
    "lleft = max(map(snd,left_ontology.values()))+1\r\n",
    "lright = max(map(snd,right_ontology.values()))+1\r\n",
    "\r\n",
    "matrix = np.zeros(shape=(lleft,lright))\r\n",
    "\r\n",
    "for fn in tqdm.tqdm(glob.glob(data_dir+'/*.json')):\r\n",
    "    #print(f\" + Processing {fn}\")\r\n",
    "    js = load(fn)\r\n",
    "    for p in js.values():\r\n",
    "        left_set = set(get_onto(t) for t in p['entities'] if t['category']==left_category) - set([''])\r\n",
    "        right_set = set(get_onto(t) for t in p['entities'] if t['category']==right_category) - set([''])\r\n",
    "        # print(left_set,right_set)\r\n",
    "        for l in left_set & set(left_ontology.keys()):\r\n",
    "            for r in right_set & set(right_ontology.keys()):\r\n",
    "                matrix[left_ontology[l][1],right_ontology[r][1]]+=1"
   ],
   "outputs": [
    {
     "output_type": "stream",
     "name": "stderr",
     "text": [
      "100%|██████████| 626/626 [02:28<00:00,  4.21it/s]\n"
     ]
    }
   ],
   "metadata": {}
  },
  {
   "cell_type": "code",
   "execution_count": 44,
   "source": [
    "matrix"
   ],
   "outputs": [
    {
     "output_type": "execute_result",
     "data": {
      "text/plain": [
       "array([[3.100e+03, 1.434e+03, 1.105e+03, 1.652e+03, 1.036e+03, 2.313e+03,\n",
       "        1.136e+03, 4.430e+02, 2.830e+02, 2.650e+02, 3.900e+02, 0.000e+00],\n",
       "       [9.510e+02, 6.000e+02, 3.710e+02, 6.100e+02, 3.390e+02, 7.160e+02,\n",
       "        7.000e+02, 2.080e+02, 2.820e+02, 1.130e+02, 2.290e+02, 0.000e+00],\n",
       "       [5.260e+02, 2.010e+02, 2.450e+02, 2.870e+02, 2.130e+02, 2.960e+02,\n",
       "        1.810e+02, 1.020e+02, 8.000e+01, 4.700e+01, 6.800e+01, 0.000e+00],\n",
       "       [8.600e+01, 6.600e+01, 2.300e+01, 9.200e+01, 2.600e+01, 1.710e+02,\n",
       "        7.400e+01, 1.300e+01, 1.270e+02, 5.000e+00, 8.000e+00, 0.000e+00],\n",
       "       [9.800e+01, 3.300e+01, 3.600e+01, 3.500e+01, 3.900e+01, 4.200e+01,\n",
       "        3.000e+00, 3.400e+01, 1.400e+01, 7.000e+00, 2.200e+01, 0.000e+00],\n",
       "       [2.440e+02, 6.500e+01, 1.780e+02, 1.200e+02, 1.020e+02, 1.740e+02,\n",
       "        6.300e+01, 5.700e+01, 5.600e+01, 4.200e+01, 2.500e+01, 0.000e+00],\n",
       "       [2.180e+02, 6.500e+01, 2.110e+02, 1.150e+02, 1.040e+02, 1.850e+02,\n",
       "        4.000e+00, 8.300e+01, 3.500e+01, 1.400e+01, 4.800e+01, 0.000e+00],\n",
       "       [1.950e+02, 5.200e+01, 8.500e+01, 6.500e+01, 6.800e+01, 1.270e+02,\n",
       "        2.700e+01, 3.300e+01, 1.800e+01, 3.130e+02, 4.800e+01, 0.000e+00],\n",
       "       [2.560e+02, 6.900e+01, 1.530e+02, 1.640e+02, 1.390e+02, 2.750e+02,\n",
       "        6.600e+01, 5.000e+01, 7.400e+01, 1.200e+01, 3.200e+01, 0.000e+00],\n",
       "       [4.400e+01, 1.800e+01, 1.000e+01, 2.900e+01, 2.400e+01, 4.400e+01,\n",
       "        3.800e+01, 1.100e+01, 4.000e+01, 4.000e+00, 3.000e+01, 0.000e+00],\n",
       "       [0.000e+00, 0.000e+00, 0.000e+00, 0.000e+00, 0.000e+00, 0.000e+00,\n",
       "        0.000e+00, 0.000e+00, 0.000e+00, 0.000e+00, 0.000e+00, 0.000e+00],\n",
       "       [0.000e+00, 0.000e+00, 0.000e+00, 0.000e+00, 0.000e+00, 0.000e+00,\n",
       "        0.000e+00, 0.000e+00, 0.000e+00, 0.000e+00, 0.000e+00, 0.000e+00]])"
      ]
     },
     "metadata": {},
     "execution_count": 44
    }
   ],
   "metadata": {}
  },
  {
   "cell_type": "code",
   "execution_count": 55,
   "source": [
    "import plotly.graph_objects as go\r\n",
    "\r\n",
    "threshold = 100\r\n",
    "highlite1 = [0]\r\n",
    "highlite2 = set()\r\n",
    "\r\n",
    "all_nodes = list(left_map.values()) + list(right_map.values())\r\n",
    "source_indices = list(range(len(left_map)))\r\n",
    "target_indices = list(range(len(left_map),len(left_map)+len(right_map)))\r\n",
    "\r\n",
    "s, t, v, c = [], [], [], []\r\n",
    "\r\n",
    "for i in left_map.keys():\r\n",
    "    for j in right_map.keys():\r\n",
    "        if matrix[i,j] > threshold:\r\n",
    "            s.append(i)\r\n",
    "            t.append(len(left_map)+j)\r\n",
    "            v.append(matrix[i,j])\r\n",
    "            c.append('magenta' if j in highlite2 or i in highlite1 else 'lightgrey')\r\n",
    "\r\n",
    "fig = go.Figure(data=[go.Sankey(\r\n",
    "    # Define nodes\r\n",
    "    node = dict(\r\n",
    "    pad = 40,\r\n",
    "    thickness = 40,\r\n",
    "    line = dict(color = \"black\", width = 1.0),\r\n",
    "    label =  all_nodes,\r\n",
    "    #color =  \"blue\"\r\n",
    "    ),\r\n",
    "\r\n",
    "    # Add links\r\n",
    "    link = dict(\r\n",
    "    source =  s,\r\n",
    "    target =  t,\r\n",
    "    value =  v,\r\n",
    "    color = c\r\n",
    "))])\r\n",
    "\r\n",
    "fig.update_layout(title_text='Diagram',\r\n",
    "                font_size=13)\r\n",
    "fig.show()\r\n"
   ],
   "outputs": [
    {
     "output_type": "display_data",
     "data": {
      "application/vnd.plotly.v1+json": {
       "config": {
        "plotlyServerURL": "https://plot.ly"
       },
       "data": [
        {
         "link": {
          "color": [
           "magenta",
           "magenta",
           "magenta",
           "magenta",
           "magenta",
           "magenta",
           "magenta",
           "magenta",
           "magenta",
           "magenta",
           "magenta",
           "lightgrey",
           "lightgrey",
           "lightgrey",
           "lightgrey",
           "lightgrey",
           "lightgrey",
           "lightgrey",
           "lightgrey",
           "lightgrey",
           "lightgrey",
           "lightgrey",
           "lightgrey",
           "lightgrey",
           "lightgrey",
           "lightgrey",
           "lightgrey",
           "lightgrey",
           "lightgrey",
           "lightgrey",
           "lightgrey",
           "lightgrey",
           "lightgrey",
           "lightgrey",
           "lightgrey",
           "lightgrey",
           "lightgrey",
           "lightgrey",
           "lightgrey",
           "lightgrey",
           "lightgrey",
           "lightgrey",
           "lightgrey",
           "lightgrey",
           "lightgrey",
           "lightgrey",
           "lightgrey",
           "lightgrey",
           "lightgrey",
           "lightgrey"
          ],
          "source": [
           0,
           0,
           0,
           0,
           0,
           0,
           0,
           0,
           0,
           0,
           0,
           1,
           1,
           1,
           1,
           1,
           1,
           1,
           1,
           1,
           1,
           1,
           2,
           2,
           2,
           2,
           2,
           2,
           2,
           2,
           3,
           3,
           5,
           5,
           5,
           5,
           5,
           6,
           6,
           6,
           6,
           6,
           7,
           7,
           7,
           8,
           8,
           8,
           8,
           8
          ],
          "target": [
           10,
           11,
           12,
           13,
           14,
           15,
           16,
           17,
           18,
           19,
           20,
           10,
           11,
           12,
           13,
           14,
           15,
           16,
           17,
           18,
           19,
           20,
           10,
           11,
           12,
           13,
           14,
           15,
           16,
           17,
           15,
           18,
           10,
           12,
           13,
           14,
           15,
           10,
           12,
           13,
           14,
           15,
           10,
           15,
           19,
           10,
           12,
           13,
           14,
           15
          ],
          "value": [
           3100,
           1434,
           1105,
           1652,
           1036,
           2313,
           1136,
           443,
           283,
           265,
           390,
           951,
           600,
           371,
           610,
           339,
           716,
           700,
           208,
           282,
           113,
           229,
           526,
           201,
           245,
           287,
           213,
           296,
           181,
           102,
           171,
           127,
           244,
           178,
           120,
           102,
           174,
           218,
           211,
           115,
           104,
           185,
           195,
           127,
           313,
           256,
           153,
           164,
           139,
           275
          ]
         },
         "node": {
          "label": [
           "COVID-19",
           "infection",
           "death",
           "SARS",
           "CA",
           "illnesses",
           "ARDS",
           "diabetes",
           "pneumonia",
           "influenza",
           "hydroxychloroquine",
           "chloroquine",
           "Tocilizumab",
           "remdesivir",
           "azithromycin",
           "lopinavir",
           "quarantine",
           "dexamethasone",
           "ribavirin",
           "insulin",
           "vitamin D"
          ],
          "line": {
           "color": "black",
           "width": 1
          },
          "pad": 40,
          "thickness": 40
         },
         "type": "sankey"
        }
       ],
       "layout": {
        "font": {
         "size": 13
        },
        "template": {
         "data": {
          "bar": [
           {
            "error_x": {
             "color": "#2a3f5f"
            },
            "error_y": {
             "color": "#2a3f5f"
            },
            "marker": {
             "line": {
              "color": "#E5ECF6",
              "width": 0.5
             }
            },
            "type": "bar"
           }
          ],
          "barpolar": [
           {
            "marker": {
             "line": {
              "color": "#E5ECF6",
              "width": 0.5
             }
            },
            "type": "barpolar"
           }
          ],
          "carpet": [
           {
            "aaxis": {
             "endlinecolor": "#2a3f5f",
             "gridcolor": "white",
             "linecolor": "white",
             "minorgridcolor": "white",
             "startlinecolor": "#2a3f5f"
            },
            "baxis": {
             "endlinecolor": "#2a3f5f",
             "gridcolor": "white",
             "linecolor": "white",
             "minorgridcolor": "white",
             "startlinecolor": "#2a3f5f"
            },
            "type": "carpet"
           }
          ],
          "choropleth": [
           {
            "colorbar": {
             "outlinewidth": 0,
             "ticks": ""
            },
            "type": "choropleth"
           }
          ],
          "contour": [
           {
            "colorbar": {
             "outlinewidth": 0,
             "ticks": ""
            },
            "colorscale": [
             [
              0,
              "#0d0887"
             ],
             [
              0.1111111111111111,
              "#46039f"
             ],
             [
              0.2222222222222222,
              "#7201a8"
             ],
             [
              0.3333333333333333,
              "#9c179e"
             ],
             [
              0.4444444444444444,
              "#bd3786"
             ],
             [
              0.5555555555555556,
              "#d8576b"
             ],
             [
              0.6666666666666666,
              "#ed7953"
             ],
             [
              0.7777777777777778,
              "#fb9f3a"
             ],
             [
              0.8888888888888888,
              "#fdca26"
             ],
             [
              1,
              "#f0f921"
             ]
            ],
            "type": "contour"
           }
          ],
          "contourcarpet": [
           {
            "colorbar": {
             "outlinewidth": 0,
             "ticks": ""
            },
            "type": "contourcarpet"
           }
          ],
          "heatmap": [
           {
            "colorbar": {
             "outlinewidth": 0,
             "ticks": ""
            },
            "colorscale": [
             [
              0,
              "#0d0887"
             ],
             [
              0.1111111111111111,
              "#46039f"
             ],
             [
              0.2222222222222222,
              "#7201a8"
             ],
             [
              0.3333333333333333,
              "#9c179e"
             ],
             [
              0.4444444444444444,
              "#bd3786"
             ],
             [
              0.5555555555555556,
              "#d8576b"
             ],
             [
              0.6666666666666666,
              "#ed7953"
             ],
             [
              0.7777777777777778,
              "#fb9f3a"
             ],
             [
              0.8888888888888888,
              "#fdca26"
             ],
             [
              1,
              "#f0f921"
             ]
            ],
            "type": "heatmap"
           }
          ],
          "heatmapgl": [
           {
            "colorbar": {
             "outlinewidth": 0,
             "ticks": ""
            },
            "colorscale": [
             [
              0,
              "#0d0887"
             ],
             [
              0.1111111111111111,
              "#46039f"
             ],
             [
              0.2222222222222222,
              "#7201a8"
             ],
             [
              0.3333333333333333,
              "#9c179e"
             ],
             [
              0.4444444444444444,
              "#bd3786"
             ],
             [
              0.5555555555555556,
              "#d8576b"
             ],
             [
              0.6666666666666666,
              "#ed7953"
             ],
             [
              0.7777777777777778,
              "#fb9f3a"
             ],
             [
              0.8888888888888888,
              "#fdca26"
             ],
             [
              1,
              "#f0f921"
             ]
            ],
            "type": "heatmapgl"
           }
          ],
          "histogram": [
           {
            "marker": {
             "colorbar": {
              "outlinewidth": 0,
              "ticks": ""
             }
            },
            "type": "histogram"
           }
          ],
          "histogram2d": [
           {
            "colorbar": {
             "outlinewidth": 0,
             "ticks": ""
            },
            "colorscale": [
             [
              0,
              "#0d0887"
             ],
             [
              0.1111111111111111,
              "#46039f"
             ],
             [
              0.2222222222222222,
              "#7201a8"
             ],
             [
              0.3333333333333333,
              "#9c179e"
             ],
             [
              0.4444444444444444,
              "#bd3786"
             ],
             [
              0.5555555555555556,
              "#d8576b"
             ],
             [
              0.6666666666666666,
              "#ed7953"
             ],
             [
              0.7777777777777778,
              "#fb9f3a"
             ],
             [
              0.8888888888888888,
              "#fdca26"
             ],
             [
              1,
              "#f0f921"
             ]
            ],
            "type": "histogram2d"
           }
          ],
          "histogram2dcontour": [
           {
            "colorbar": {
             "outlinewidth": 0,
             "ticks": ""
            },
            "colorscale": [
             [
              0,
              "#0d0887"
             ],
             [
              0.1111111111111111,
              "#46039f"
             ],
             [
              0.2222222222222222,
              "#7201a8"
             ],
             [
              0.3333333333333333,
              "#9c179e"
             ],
             [
              0.4444444444444444,
              "#bd3786"
             ],
             [
              0.5555555555555556,
              "#d8576b"
             ],
             [
              0.6666666666666666,
              "#ed7953"
             ],
             [
              0.7777777777777778,
              "#fb9f3a"
             ],
             [
              0.8888888888888888,
              "#fdca26"
             ],
             [
              1,
              "#f0f921"
             ]
            ],
            "type": "histogram2dcontour"
           }
          ],
          "mesh3d": [
           {
            "colorbar": {
             "outlinewidth": 0,
             "ticks": ""
            },
            "type": "mesh3d"
           }
          ],
          "parcoords": [
           {
            "line": {
             "colorbar": {
              "outlinewidth": 0,
              "ticks": ""
             }
            },
            "type": "parcoords"
           }
          ],
          "pie": [
           {
            "automargin": true,
            "type": "pie"
           }
          ],
          "scatter": [
           {
            "marker": {
             "colorbar": {
              "outlinewidth": 0,
              "ticks": ""
             }
            },
            "type": "scatter"
           }
          ],
          "scatter3d": [
           {
            "line": {
             "colorbar": {
              "outlinewidth": 0,
              "ticks": ""
             }
            },
            "marker": {
             "colorbar": {
              "outlinewidth": 0,
              "ticks": ""
             }
            },
            "type": "scatter3d"
           }
          ],
          "scattercarpet": [
           {
            "marker": {
             "colorbar": {
              "outlinewidth": 0,
              "ticks": ""
             }
            },
            "type": "scattercarpet"
           }
          ],
          "scattergeo": [
           {
            "marker": {
             "colorbar": {
              "outlinewidth": 0,
              "ticks": ""
             }
            },
            "type": "scattergeo"
           }
          ],
          "scattergl": [
           {
            "marker": {
             "colorbar": {
              "outlinewidth": 0,
              "ticks": ""
             }
            },
            "type": "scattergl"
           }
          ],
          "scattermapbox": [
           {
            "marker": {
             "colorbar": {
              "outlinewidth": 0,
              "ticks": ""
             }
            },
            "type": "scattermapbox"
           }
          ],
          "scatterpolar": [
           {
            "marker": {
             "colorbar": {
              "outlinewidth": 0,
              "ticks": ""
             }
            },
            "type": "scatterpolar"
           }
          ],
          "scatterpolargl": [
           {
            "marker": {
             "colorbar": {
              "outlinewidth": 0,
              "ticks": ""
             }
            },
            "type": "scatterpolargl"
           }
          ],
          "scatterternary": [
           {
            "marker": {
             "colorbar": {
              "outlinewidth": 0,
              "ticks": ""
             }
            },
            "type": "scatterternary"
           }
          ],
          "surface": [
           {
            "colorbar": {
             "outlinewidth": 0,
             "ticks": ""
            },
            "colorscale": [
             [
              0,
              "#0d0887"
             ],
             [
              0.1111111111111111,
              "#46039f"
             ],
             [
              0.2222222222222222,
              "#7201a8"
             ],
             [
              0.3333333333333333,
              "#9c179e"
             ],
             [
              0.4444444444444444,
              "#bd3786"
             ],
             [
              0.5555555555555556,
              "#d8576b"
             ],
             [
              0.6666666666666666,
              "#ed7953"
             ],
             [
              0.7777777777777778,
              "#fb9f3a"
             ],
             [
              0.8888888888888888,
              "#fdca26"
             ],
             [
              1,
              "#f0f921"
             ]
            ],
            "type": "surface"
           }
          ],
          "table": [
           {
            "cells": {
             "fill": {
              "color": "#EBF0F8"
             },
             "line": {
              "color": "white"
             }
            },
            "header": {
             "fill": {
              "color": "#C8D4E3"
             },
             "line": {
              "color": "white"
             }
            },
            "type": "table"
           }
          ]
         },
         "layout": {
          "annotationdefaults": {
           "arrowcolor": "#2a3f5f",
           "arrowhead": 0,
           "arrowwidth": 1
          },
          "autotypenumbers": "strict",
          "coloraxis": {
           "colorbar": {
            "outlinewidth": 0,
            "ticks": ""
           }
          },
          "colorscale": {
           "diverging": [
            [
             0,
             "#8e0152"
            ],
            [
             0.1,
             "#c51b7d"
            ],
            [
             0.2,
             "#de77ae"
            ],
            [
             0.3,
             "#f1b6da"
            ],
            [
             0.4,
             "#fde0ef"
            ],
            [
             0.5,
             "#f7f7f7"
            ],
            [
             0.6,
             "#e6f5d0"
            ],
            [
             0.7,
             "#b8e186"
            ],
            [
             0.8,
             "#7fbc41"
            ],
            [
             0.9,
             "#4d9221"
            ],
            [
             1,
             "#276419"
            ]
           ],
           "sequential": [
            [
             0,
             "#0d0887"
            ],
            [
             0.1111111111111111,
             "#46039f"
            ],
            [
             0.2222222222222222,
             "#7201a8"
            ],
            [
             0.3333333333333333,
             "#9c179e"
            ],
            [
             0.4444444444444444,
             "#bd3786"
            ],
            [
             0.5555555555555556,
             "#d8576b"
            ],
            [
             0.6666666666666666,
             "#ed7953"
            ],
            [
             0.7777777777777778,
             "#fb9f3a"
            ],
            [
             0.8888888888888888,
             "#fdca26"
            ],
            [
             1,
             "#f0f921"
            ]
           ],
           "sequentialminus": [
            [
             0,
             "#0d0887"
            ],
            [
             0.1111111111111111,
             "#46039f"
            ],
            [
             0.2222222222222222,
             "#7201a8"
            ],
            [
             0.3333333333333333,
             "#9c179e"
            ],
            [
             0.4444444444444444,
             "#bd3786"
            ],
            [
             0.5555555555555556,
             "#d8576b"
            ],
            [
             0.6666666666666666,
             "#ed7953"
            ],
            [
             0.7777777777777778,
             "#fb9f3a"
            ],
            [
             0.8888888888888888,
             "#fdca26"
            ],
            [
             1,
             "#f0f921"
            ]
           ]
          },
          "colorway": [
           "#636efa",
           "#EF553B",
           "#00cc96",
           "#ab63fa",
           "#FFA15A",
           "#19d3f3",
           "#FF6692",
           "#B6E880",
           "#FF97FF",
           "#FECB52"
          ],
          "font": {
           "color": "#2a3f5f"
          },
          "geo": {
           "bgcolor": "white",
           "lakecolor": "white",
           "landcolor": "#E5ECF6",
           "showlakes": true,
           "showland": true,
           "subunitcolor": "white"
          },
          "hoverlabel": {
           "align": "left"
          },
          "hovermode": "closest",
          "mapbox": {
           "style": "light"
          },
          "paper_bgcolor": "white",
          "plot_bgcolor": "#E5ECF6",
          "polar": {
           "angularaxis": {
            "gridcolor": "white",
            "linecolor": "white",
            "ticks": ""
           },
           "bgcolor": "#E5ECF6",
           "radialaxis": {
            "gridcolor": "white",
            "linecolor": "white",
            "ticks": ""
           }
          },
          "scene": {
           "xaxis": {
            "backgroundcolor": "#E5ECF6",
            "gridcolor": "white",
            "gridwidth": 2,
            "linecolor": "white",
            "showbackground": true,
            "ticks": "",
            "zerolinecolor": "white"
           },
           "yaxis": {
            "backgroundcolor": "#E5ECF6",
            "gridcolor": "white",
            "gridwidth": 2,
            "linecolor": "white",
            "showbackground": true,
            "ticks": "",
            "zerolinecolor": "white"
           },
           "zaxis": {
            "backgroundcolor": "#E5ECF6",
            "gridcolor": "white",
            "gridwidth": 2,
            "linecolor": "white",
            "showbackground": true,
            "ticks": "",
            "zerolinecolor": "white"
           }
          },
          "shapedefaults": {
           "line": {
            "color": "#2a3f5f"
           }
          },
          "ternary": {
           "aaxis": {
            "gridcolor": "white",
            "linecolor": "white",
            "ticks": ""
           },
           "baxis": {
            "gridcolor": "white",
            "linecolor": "white",
            "ticks": ""
           },
           "bgcolor": "#E5ECF6",
           "caxis": {
            "gridcolor": "white",
            "linecolor": "white",
            "ticks": ""
           }
          },
          "title": {
           "x": 0.05
          },
          "xaxis": {
           "automargin": true,
           "gridcolor": "white",
           "linecolor": "white",
           "ticks": "",
           "title": {
            "standoff": 15
           },
           "zerolinecolor": "white",
           "zerolinewidth": 2
          },
          "yaxis": {
           "automargin": true,
           "gridcolor": "white",
           "linecolor": "white",
           "ticks": "",
           "title": {
            "standoff": 15
           },
           "zerolinecolor": "white",
           "zerolinewidth": 2
          }
         }
        },
        "title": {
         "text": "Diagram"
        }
       }
      }
     },
     "metadata": {}
    }
   ],
   "metadata": {}
  },
  {
   "cell_type": "code",
   "execution_count": null,
   "source": [],
   "outputs": [],
   "metadata": {}
  }
 ],
 "metadata": {
  "orig_nbformat": 4,
  "language_info": {
   "name": "python",
   "version": "3.8.8",
   "mimetype": "text/x-python",
   "codemirror_mode": {
    "name": "ipython",
    "version": 3
   },
   "pygments_lexer": "ipython3",
   "nbconvert_exporter": "python",
   "file_extension": ".py"
  },
  "kernelspec": {
   "name": "python3",
   "display_name": "Python 3.8.8 64-bit ('base': conda)"
  },
  "interpreter": {
   "hash": "86193a1ab0ba47eac1c69c1756090baa3b420b3eea7d4aafab8b85f8b312f0c5"
  }
 },
 "nbformat": 4,
 "nbformat_minor": 2
}